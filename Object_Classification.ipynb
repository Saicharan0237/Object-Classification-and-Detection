{
  "nbformat": 4,
  "nbformat_minor": 0,
  "metadata": {
    "colab": {
      "name": "Object Classification.ipynb",
      "provenance": [],
      "collapsed_sections": [],
      "authorship_tag": "ABX9TyNiqup9U7dlbzXmRFoYJrcJ",
      "include_colab_link": true
    },
    "kernelspec": {
      "name": "python3",
      "display_name": "Python 3"
    },
    "language_info": {
      "name": "python"
    }
  },
  "cells": [
    {
      "cell_type": "markdown",
      "metadata": {
        "id": "view-in-github",
        "colab_type": "text"
      },
      "source": [
        "<a href=\"https://colab.research.google.com/github/Saicharan0237/Object-Classification-and-Detection/blob/main/Object_Classification.ipynb\" target=\"_parent\"><img src=\"https://colab.research.google.com/assets/colab-badge.svg\" alt=\"Open In Colab\"/></a>"
      ]
    },
    {
      "cell_type": "code",
      "metadata": {
        "id": "FMYX9Kz3yXKr"
      },
      "source": [
        "#import libraries require for traffic sign classification problem\n",
        "import math\n",
        "import numpy as np\n",
        "import matplotlib.pyplot as plt\n",
        "import pandas as pd\n",
        "import os\n",
        "import tensorflow as tf\n",
        "import keras\n",
        "from glob import glob"
      ],
      "execution_count": null,
      "outputs": []
    },
    {
      "cell_type": "code",
      "metadata": {
        "id": "ZrG5Tc_qygrr",
        "colab": {
          "base_uri": "https://localhost:8080/"
        },
        "outputId": "84f2826d-679e-4164-e65c-ed01b52684a5"
      },
      "source": [
        "from google.colab import drive\n",
        "drive.mount('/content/drive', force_remount=True)"
      ],
      "execution_count": null,
      "outputs": [
        {
          "output_type": "stream",
          "text": [
            "Mounted at /content/drive\n"
          ],
          "name": "stdout"
        }
      ]
    },
    {
      "cell_type": "code",
      "metadata": {
        "id": "71S2vzsfKMcU"
      },
      "source": [
        "#Use Image Generators\n",
        "#1. Initialize\n",
        "#For Training Data\n",
        "train_generator = tf.keras.preprocessing.image.ImageDataGenerator(rescale= 1.0/255.,\n",
        "                                                                  rotation_range=30,\n",
        "                                                              \n",
        "                                                                  zoom_range=0.2,\n",
        "                                                                  horizontal_flip=True,\n",
        "                                                                  \n",
        "                                                                  fill_mode='nearest',\n",
        "                                                                  preprocessing_function=tf.keras.applications.vgg16.preprocess_input)\n",
        "\n",
        "#For Validation Data\n",
        "valid_generator = tf.keras.preprocessing.image.ImageDataGenerator(rescale= 1.0/255., preprocessing_function=tf.keras.applications.vgg16.preprocess_input)"
      ],
      "execution_count": null,
      "outputs": []
    },
    {
      "cell_type": "code",
      "metadata": {
        "id": "CKWHj907KMfX"
      },
      "source": [
        "#Pass set of images to the generator to generate compatible images for CNN\n",
        "trainImageData = train_generator.flow_from_directory(\"/content/drive/My Drive/Traffic sign classification GTSRB/Data/Train/\",\n",
        "                                                     batch_size=32,\n",
        "                                                     class_mode='categorical',\n",
        "                                                     target_size=(32,32))"
      ],
      "execution_count": null,
      "outputs": []
    },
    {
      "cell_type": "code",
      "metadata": {
        "id": "9OVT8bJNKMig"
      },
      "source": [
        "Test_Data=pd.read_csv(\"/content/drive/My Drive/Traffic sign classification GTSRB/Data/Test.csv\")"
      ],
      "execution_count": null,
      "outputs": []
    },
    {
      "cell_type": "code",
      "metadata": {
        "id": "k9HusWopKMli"
      },
      "source": [
        "Test_Data.head"
      ],
      "execution_count": null,
      "outputs": []
    },
    {
      "cell_type": "code",
      "metadata": {
        "id": "tXEhvThyKMol"
      },
      "source": [
        "Test_labels1=Test_Data['ClassId'].values\n",
        "#Test_labels=np.array(Test_labels1)\n",
        "#from sklearn.preprocessing import LabelBinarizer\n",
        "#Label_binarizer=LabelBinarizer()\n",
        "#Test_labels_transfromed=Label_binarizer.fit_transform(Test_labels)\n",
        "Test_labels_transfromed=np.array(tf.keras.utils.to_categorical(Test_labels1,num_classes=43,dtype=\"float32\"))\n",
        "#print(Test_labels_transfromed)\n",
        "Test_labels_transfromed.shape"
      ],
      "execution_count": null,
      "outputs": []
    },
    {
      "cell_type": "code",
      "metadata": {
        "id": "ttpnDiRmKMr2"
      },
      "source": [
        "valid_path = \"/content/drive/My Drive/Traffic sign classification GTSRB/Data/Test/\"\n",
        "#Test_images=np.load(\"/content/drive/My Drive/Traffic sign classification GTSRB/Data/Test/\")\n",
        "#Test_images = glob(valid_path + '/*/*.png')\n",
        "#Test_images4=Test_Data['Path'].values\n",
        "Test_images2 = glob(valid_path + '/*.png')\n",
        "Test_images5=[]\n",
        "import cv2\n",
        "for image in Test_images2:\n",
        "  #img=cv2.imread(image)\n",
        "  img=tf.keras.preprocessing.image.load_img(image, target_size=(32,32))\n",
        "  imgArray=tf.keras.preprocessing.image.img_to_array(img)\n",
        "  #img2=np.expand_dims(imgArray,axis=0)\n",
        "  \n",
        "  #img2=cv2.resize(imgArray,dsize=(32,32))\n",
        "  \n",
        "  Test_images5.append(np.array(imgArray))\n",
        "\n",
        "\n",
        "\n",
        "#plt.imshow(Test_images3[0])"
      ],
      "execution_count": null,
      "outputs": []
    },
    {
      "cell_type": "code",
      "metadata": {
        "id": "l3b_DdkMKMup"
      },
      "source": [
        "Test_images3=np.array(Test_images5)\n",
        "Test_images3.shape\n",
        "plt.imshow(Test_images3[0])"
      ],
      "execution_count": null,
      "outputs": []
    },
    {
      "cell_type": "code",
      "metadata": {
        "id": "KlLHEy8BKMxs"
      },
      "source": [
        "validation_data=valid_generator.flow(Test_images3,Test_labels_transfromed, batch_size=32)"
      ],
      "execution_count": null,
      "outputs": []
    },
    {
      "cell_type": "code",
      "metadata": {
        "id": "WzsaiqW8KM0t"
      },
      "source": [
        "# Follow the following order when planning to use Transfer Learning with existing CNN architectures\n",
        "# 1. VGG16\n",
        "# 2. Inceptionv3\n",
        "# 3. Resnet50\n",
        "# 4. Xception\n",
        "# 5. Nasnet --\n",
        "# Only applicable if you are not planning to train entire model"
      ],
      "execution_count": null,
      "outputs": []
    },
    {
      "cell_type": "code",
      "metadata": {
        "id": "Xr0jf_F9KnP3"
      },
      "source": [
        "vgg = tf.keras.applications.vgg16.VGG16(input_shape=[32,32,3],\n",
        "                                        weights=\"imagenet\",\n",
        "                                        include_top=False)\n",
        "\n",
        "\n",
        "#To use the existing weights and disable training on VGG object.\n",
        "# Ensure all weights are immutable\n",
        "\n",
        "for layer in vgg.layers:\n",
        "  layer.trainable = False"
      ],
      "execution_count": null,
      "outputs": []
    },
    {
      "cell_type": "code",
      "metadata": {
        "id": "1HDOslADKnT5"
      },
      "source": [
        "#Create our FC layer as per our spec\n",
        "#Flatten\n",
        "flatten = tf.keras.layers.Flatten()\n",
        "#we should add few more layers\n",
        "#FC layer\n",
        "finalLayer1=tf.keras.layers.Dense(256,activation='relu')\n",
        "finalLayer2=tf.keras.layers.Dropout(0.2)\n",
        "finalLayer3=tf.keras.layers.Dense(128,activation='relu')\n",
        "finalLayer4=tf.keras.layers.Dropout(0.2)\n",
        "finalLayer5 = tf.keras.layers.Dense(43,activation=\"softmax\")"
      ],
      "execution_count": null,
      "outputs": []
    },
    {
      "cell_type": "code",
      "metadata": {
        "id": "LE3Vnlc8KnXS"
      },
      "source": [
        "model=tf.keras.models.Sequential([vgg,flatten,finalLayer1,finalLayer2,finalLayer3,finalLayer4,finalLayer5])\n",
        "model.summary()"
      ],
      "execution_count": null,
      "outputs": []
    },
    {
      "cell_type": "code",
      "metadata": {
        "id": "IDXRHx08KnaZ"
      },
      "source": [
        "model.compile(optimizer='adam',\n",
        "            \n",
        "              loss='categorical_crossentropy',\n",
        "              metrics=['accuracy'])"
      ],
      "execution_count": null,
      "outputs": []
    },
    {
      "cell_type": "code",
      "metadata": {
        "id": "54pOPow-Kwzp"
      },
      "source": [
        "batch_size=32\n",
        "history = model.fit(trainImageData,\n",
        "                    validation_data=validation_data,\n",
        "                    epochs=100)"
      ],
      "execution_count": null,
      "outputs": []
    },
    {
      "cell_type": "code",
      "metadata": {
        "id": "ZK7gXfrfKyyE"
      },
      "source": [
        "# Save the entire model as a SavedModel.\n",
        "!mkdir -p saved_model\n",
        "model.save('saved_model/my_model2.h5') "
      ],
      "execution_count": null,
      "outputs": []
    },
    {
      "cell_type": "code",
      "metadata": {
        "id": "1eyC6-6-K1x9"
      },
      "source": [
        "#deployement\n",
        "img=tf.keras.preprocessing.image.load_img(\"/content/drive/My Drive/Traffic sign classification GTSRB/Data/Test/00000.png\", target_size=(128,128))\n",
        "imgArray=tf.keras.preprocessing.image.img_to_array(img)\n",
        "#import numpy as np\n",
        "img2=np.expand_dims(imgArray,axis=0)\n",
        "import matplotlib.pyplot as plt\n",
        "plt.imshow(img)\n",
        "model.predict(img2)"
      ],
      "execution_count": null,
      "outputs": []
    }
  ]
}